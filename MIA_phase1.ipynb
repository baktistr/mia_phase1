{
 "cells": [
  {
   "cell_type": "markdown",
   "id": "54fd2d0f",
   "metadata": {
    "id": "54fd2d0f"
   },
   "source": [
    "## MIA FOR Finetuned LLM"
   ]
  },
  {
   "cell_type": "markdown",
   "id": "da99a598",
   "metadata": {},
   "source": [
    "### Environment Verification\n",
    "\n",
    "Run this cell to verify your Python environment is set up correctly."
   ]
  },
  {
   "cell_type": "code",
   "execution_count": 1,
   "id": "35606a0c",
   "metadata": {},
   "outputs": [
    {
     "name": "stdout",
     "output_type": "stream",
     "text": [
      "Python executable: /mnt/c/Users/adhit/OneDrive/Documents/CMU/Fall 2025/17-731 Foundations of Privacy/project/Project_phase1/.venv/bin/python\n",
      "Python version: 3.12.3 (main, Aug 14 2025, 17:47:21) [GCC 13.3.0]\n",
      "\n",
      "If the path shows '.venv', your environment is correctly configured!\n",
      "\n",
      "✓ PyTorch version: 2.8.0+cu128\n",
      "✓ Transformers version: 4.56.2\n",
      "✓ Datasets version: 4.1.1\n",
      "✓ CUDA available: True\n",
      "  GPU: NVIDIA GeForce RTX 5070 Ti\n",
      "\n",
      "✓ PyTorch version: 2.8.0+cu128\n",
      "✓ Transformers version: 4.56.2\n",
      "✓ Datasets version: 4.1.1\n",
      "✓ CUDA available: True\n",
      "  GPU: NVIDIA GeForce RTX 5070 Ti\n"
     ]
    }
   ],
   "source": [
    "# Environment verification - run this cell to check your setup\n",
    "import sys\n",
    "print(f\"Python executable: {sys.executable}\")\n",
    "print(f\"Python version: {sys.version}\")\n",
    "print(f\"\\nIf the path shows '.venv', your environment is correctly configured!\")\n",
    "\n",
    "# Check if key packages are available (will error if not installed yet)\n",
    "try:\n",
    "    import torch\n",
    "    import transformers\n",
    "    import datasets\n",
    "    print(f\"\\n✓ PyTorch version: {torch.__version__}\")\n",
    "    print(f\"✓ Transformers version: {transformers.__version__}\")\n",
    "    print(f\"✓ Datasets version: {datasets.__version__}\")\n",
    "    print(f\"✓ CUDA available: {torch.cuda.is_available()}\")\n",
    "    if torch.cuda.is_available():\n",
    "        print(f\"  GPU: {torch.cuda.get_device_name(0)}\")\n",
    "except ImportError as e:\n",
    "    print(f\"\\n⚠ Some packages not installed yet. Run: pip install -r requirements.txt\")\n",
    "    print(f\"  Error: {e}\")"
   ]
  },
  {
   "cell_type": "code",
   "execution_count": 2,
   "id": "89a92386",
   "metadata": {
    "id": "89a92386"
   },
   "outputs": [
    {
     "name": "stdout",
     "output_type": "stream",
     "text": [
      "  % Total    % Received % Xferd  Average Speed   Time    Time     Time  Current\n",
      "                                 Dload  Upload   Total   Spent    Left  Speed\n",
      "  0     0    0     0    0     0      0      0 --:--:-- --:--:-- --:--:--     0\n",
      "  0     0    0     0    0     0      0      0 --:--:-- --:--:-- --:--:--     0\n",
      "100  474M  100  474M    0     0  37.3M      0  0:00:12  0:00:12 --:--:-- 39.1M 0:00:02  0:00:14 35.4M 0:00:02  0:00:14 35.4M\n",
      "100  474M  100  474M    0     0  37.3M      0  0:00:12  0:00:12 --:--:-- 39.1M\n"
     ]
    }
   ],
   "source": [
    "# update the downloading command as my LFS runs out so cannot directly clone model.safetensors\n",
    "#%cd /content\n",
    "\n",
    "#!rm -rf /content/Project_phase1\n",
    "\n",
    "# skip LFS!!!: as my LFS bandwith run out\n",
    "#!GIT_LFS_SKIP_SMUDGE=1 git clone https://github.com/2020pyfcrawl/Project_phase1.git\n",
    "\n",
    "# download the model.safetensors: this enables faster download, you may also upload in colab but it's slower\n",
    "# 1. download the model.safetensors from repo webpage\n",
    "# 2. upload that into your google drive\n",
    "# 3. copy link to share and replace the <...> with your link to download\n",
    "# 4. run the command below\n",
    "# !gdown --fuzzy <your google drive sharing path> -O /content/Project_phase1/models/gpt2_phase1/\n",
    "\n",
    "#%cd /content/Project_phase1\n",
    "\n",
    "!curl -L -o ./models/gpt2_phase1/model.safetensors \"https://github.com/2020pyfcrawl/Project_phase1/raw/main/models/gpt2_phase1/model.safetensors\""
   ]
  },
  {
   "cell_type": "code",
   "execution_count": 3,
   "id": "nE8MHr08sGfn",
   "metadata": {
    "id": "nE8MHr08sGfn"
   },
   "outputs": [
    {
     "name": "stdout",
     "output_type": "stream",
     "text": [
      "total 480M\n",
      "drwxrwxrwx 1 baktistr baktistr 4.0K Oct 19 22:10 .\n",
      "drwxrwxrwx 1 baktistr baktistr 4.0K Oct 19 22:10 ..\n",
      "-rwxrwxrwx 1 baktistr baktistr  899 Oct 19 22:08 config.json\n",
      "-rwxrwxrwx 1 baktistr baktistr  154 Oct 19 22:08 generation_config.json\n",
      "-rwxrwxrwx 1 baktistr baktistr 446K Oct 19 22:08 merges.txt\n",
      "-rwxrwxrwx 1 baktistr baktistr 475M Oct 19 23:29 model.safetensors\n",
      "-rwxrwxrwx 1 baktistr baktistr  131 Oct 19 22:08 special_tokens_map.json\n",
      "-rwxrwxrwx 1 baktistr baktistr 3.4M Oct 19 22:08 tokenizer.json\n",
      "-rwxrwxrwx 1 baktistr baktistr  507 Oct 19 22:08 tokenizer_config.json\n",
      "-rwxrwxrwx 1 baktistr baktistr 780K Oct 19 22:08 vocab.json\n"
     ]
    }
   ],
   "source": [
    "# check here, model.safetensors should be 475M, if not, delete it and re-download\n",
    "!ls -lah ./models/gpt2_phase1/"
   ]
  },
  {
   "cell_type": "markdown",
   "id": "0c559787",
   "metadata": {
    "id": "0c559787"
   },
   "source": [
    "### Variables and libraries"
   ]
  },
  {
   "cell_type": "code",
   "execution_count": 4,
   "id": "d1a53cf5",
   "metadata": {
    "id": "d1a53cf5"
   },
   "outputs": [
    {
     "name": "stdout",
     "output_type": "stream",
     "text": [
      "Requirement already satisfied: torch==2.8.0 in ./.venv/lib/python3.12/site-packages (from -r requirements.txt (line 1)) (2.8.0)\n",
      "Requirement already satisfied: transformers==4.56.2 in ./.venv/lib/python3.12/site-packages (from -r requirements.txt (line 2)) (4.56.2)\n",
      "Requirement already satisfied: accelerate==1.10.1 in ./.venv/lib/python3.12/site-packages (from -r requirements.txt (line 3)) (1.10.1)\n",
      "Requirement already satisfied: trl==0.10.1 in ./.venv/lib/python3.12/site-packages (from -r requirements.txt (line 4)) (0.10.1)\n",
      "Requirement already satisfied: peft==0.13.2 in ./.venv/lib/python3.12/site-packages (from -r requirements.txt (line 5)) (0.13.2)\n",
      "Requirement already satisfied: datasets==4.1.1 in ./.venv/lib/python3.12/site-packages (from -r requirements.txt (line 6)) (4.1.1)\n",
      "Requirement already satisfied: bitsandbytes==0.47.0 in ./.venv/lib/python3.12/site-packages (from -r requirements.txt (line 7)) (0.47.0)\n",
      "Requirement already satisfied: xformers==0.0.32.post2 in ./.venv/lib/python3.12/site-packages (from -r requirements.txt (line 8)) (0.0.32.post2)\n",
      "Requirement already satisfied: sentencepiece==0.2.1 in ./.venv/lib/python3.12/site-packages (from -r requirements.txt (line 9)) (0.2.1)\n",
      "Requirement already satisfied: protobuf==5.29.5 in ./.venv/lib/python3.12/site-packages (from -r requirements.txt (line 10)) (5.29.5)\n",
      "Requirement already satisfied: scikit-learn==1.7.2 in ./.venv/lib/python3.12/site-packages (from -r requirements.txt (line 11)) (1.7.2)\n",
      "Requirement already satisfied: numpy==1.26.4 in ./.venv/lib/python3.12/site-packages (from -r requirements.txt (line 12)) (1.26.4)\n",
      "Requirement already satisfied: tqdm==4.66.4 in ./.venv/lib/python3.12/site-packages (from -r requirements.txt (line 13)) (4.66.4)\n",
      "Requirement already satisfied: pyyaml==6.0.1 in ./.venv/lib/python3.12/site-packages (from -r requirements.txt (line 14)) (6.0.1)\n",
      "Requirement already satisfied: matplotlib in ./.venv/lib/python3.12/site-packages (from -r requirements.txt (line 15)) (3.10.7)\n",
      "Requirement already satisfied: filelock in ./.venv/lib/python3.12/site-packages (from torch==2.8.0->-r requirements.txt (line 1)) (3.20.0)\n",
      "Requirement already satisfied: typing-extensions>=4.10.0 in ./.venv/lib/python3.12/site-packages (from torch==2.8.0->-r requirements.txt (line 1)) (4.15.0)\n",
      "Requirement already satisfied: setuptools in ./.venv/lib/python3.12/site-packages (from torch==2.8.0->-r requirements.txt (line 1)) (80.9.0)\n",
      "Requirement already satisfied: sympy>=1.13.3 in ./.venv/lib/python3.12/site-packages (from torch==2.8.0->-r requirements.txt (line 1)) (1.14.0)\n",
      "Requirement already satisfied: networkx in ./.venv/lib/python3.12/site-packages (from torch==2.8.0->-r requirements.txt (line 1)) (3.5)\n",
      "Requirement already satisfied: jinja2 in ./.venv/lib/python3.12/site-packages (from torch==2.8.0->-r requirements.txt (line 1)) (3.1.6)\n",
      "Requirement already satisfied: fsspec in ./.venv/lib/python3.12/site-packages (from torch==2.8.0->-r requirements.txt (line 1)) (2025.9.0)\n",
      "Requirement already satisfied: nvidia-cuda-nvrtc-cu12==12.8.93 in ./.venv/lib/python3.12/site-packages (from torch==2.8.0->-r requirements.txt (line 1)) (12.8.93)\n",
      "Requirement already satisfied: nvidia-cuda-runtime-cu12==12.8.90 in ./.venv/lib/python3.12/site-packages (from torch==2.8.0->-r requirements.txt (line 1)) (12.8.90)\n",
      "Requirement already satisfied: nvidia-cuda-cupti-cu12==12.8.90 in ./.venv/lib/python3.12/site-packages (from torch==2.8.0->-r requirements.txt (line 1)) (12.8.90)\n",
      "Requirement already satisfied: nvidia-cudnn-cu12==9.10.2.21 in ./.venv/lib/python3.12/site-packages (from torch==2.8.0->-r requirements.txt (line 1)) (9.10.2.21)\n",
      "Requirement already satisfied: nvidia-cublas-cu12==12.8.4.1 in ./.venv/lib/python3.12/site-packages (from torch==2.8.0->-r requirements.txt (line 1)) (12.8.4.1)\n",
      "Requirement already satisfied: nvidia-cufft-cu12==11.3.3.83 in ./.venv/lib/python3.12/site-packages (from torch==2.8.0->-r requirements.txt (line 1)) (11.3.3.83)\n",
      "Requirement already satisfied: nvidia-curand-cu12==10.3.9.90 in ./.venv/lib/python3.12/site-packages (from torch==2.8.0->-r requirements.txt (line 1)) (10.3.9.90)\n",
      "Requirement already satisfied: nvidia-cusolver-cu12==11.7.3.90 in ./.venv/lib/python3.12/site-packages (from torch==2.8.0->-r requirements.txt (line 1)) (11.7.3.90)\n",
      "Requirement already satisfied: nvidia-cusparse-cu12==12.5.8.93 in ./.venv/lib/python3.12/site-packages (from torch==2.8.0->-r requirements.txt (line 1)) (12.5.8.93)\n",
      "Requirement already satisfied: nvidia-cusparselt-cu12==0.7.1 in ./.venv/lib/python3.12/site-packages (from torch==2.8.0->-r requirements.txt (line 1)) (0.7.1)\n",
      "Requirement already satisfied: nvidia-nccl-cu12==2.27.3 in ./.venv/lib/python3.12/site-packages (from torch==2.8.0->-r requirements.txt (line 1)) (2.27.3)\n",
      "Requirement already satisfied: nvidia-nvtx-cu12==12.8.90 in ./.venv/lib/python3.12/site-packages (from torch==2.8.0->-r requirements.txt (line 1)) (12.8.90)\n",
      "Requirement already satisfied: nvidia-nvjitlink-cu12==12.8.93 in ./.venv/lib/python3.12/site-packages (from torch==2.8.0->-r requirements.txt (line 1)) (12.8.93)\n",
      "Requirement already satisfied: nvidia-cufile-cu12==1.13.1.3 in ./.venv/lib/python3.12/site-packages (from torch==2.8.0->-r requirements.txt (line 1)) (1.13.1.3)\n",
      "Requirement already satisfied: triton==3.4.0 in ./.venv/lib/python3.12/site-packages (from torch==2.8.0->-r requirements.txt (line 1)) (3.4.0)\n",
      "Requirement already satisfied: huggingface-hub<1.0,>=0.34.0 in ./.venv/lib/python3.12/site-packages (from transformers==4.56.2->-r requirements.txt (line 2)) (0.35.3)\n",
      "Requirement already satisfied: packaging>=20.0 in ./.venv/lib/python3.12/site-packages (from transformers==4.56.2->-r requirements.txt (line 2)) (25.0)\n",
      "Requirement already satisfied: regex!=2019.12.17 in ./.venv/lib/python3.12/site-packages (from transformers==4.56.2->-r requirements.txt (line 2)) (2025.9.18)\n",
      "Requirement already satisfied: requests in ./.venv/lib/python3.12/site-packages (from transformers==4.56.2->-r requirements.txt (line 2)) (2.32.5)\n",
      "Requirement already satisfied: tokenizers<=0.23.0,>=0.22.0 in ./.venv/lib/python3.12/site-packages (from transformers==4.56.2->-r requirements.txt (line 2)) (0.22.1)\n",
      "Requirement already satisfied: safetensors>=0.4.3 in ./.venv/lib/python3.12/site-packages (from transformers==4.56.2->-r requirements.txt (line 2)) (0.6.2)\n",
      "Requirement already satisfied: psutil in ./.venv/lib/python3.12/site-packages (from accelerate==1.10.1->-r requirements.txt (line 3)) (7.1.1)\n",
      "Requirement already satisfied: tyro>=0.5.11 in ./.venv/lib/python3.12/site-packages (from trl==0.10.1->-r requirements.txt (line 4)) (0.9.35)\n",
      "Requirement already satisfied: pyarrow>=21.0.0 in ./.venv/lib/python3.12/site-packages (from datasets==4.1.1->-r requirements.txt (line 6)) (21.0.0)\n",
      "Requirement already satisfied: huggingface-hub<1.0,>=0.34.0 in ./.venv/lib/python3.12/site-packages (from transformers==4.56.2->-r requirements.txt (line 2)) (0.35.3)\n",
      "Requirement already satisfied: packaging>=20.0 in ./.venv/lib/python3.12/site-packages (from transformers==4.56.2->-r requirements.txt (line 2)) (25.0)\n",
      "Requirement already satisfied: regex!=2019.12.17 in ./.venv/lib/python3.12/site-packages (from transformers==4.56.2->-r requirements.txt (line 2)) (2025.9.18)\n",
      "Requirement already satisfied: requests in ./.venv/lib/python3.12/site-packages (from transformers==4.56.2->-r requirements.txt (line 2)) (2.32.5)\n",
      "Requirement already satisfied: tokenizers<=0.23.0,>=0.22.0 in ./.venv/lib/python3.12/site-packages (from transformers==4.56.2->-r requirements.txt (line 2)) (0.22.1)\n",
      "Requirement already satisfied: safetensors>=0.4.3 in ./.venv/lib/python3.12/site-packages (from transformers==4.56.2->-r requirements.txt (line 2)) (0.6.2)\n",
      "Requirement already satisfied: psutil in ./.venv/lib/python3.12/site-packages (from accelerate==1.10.1->-r requirements.txt (line 3)) (7.1.1)\n",
      "Requirement already satisfied: tyro>=0.5.11 in ./.venv/lib/python3.12/site-packages (from trl==0.10.1->-r requirements.txt (line 4)) (0.9.35)\n",
      "Requirement already satisfied: pyarrow>=21.0.0 in ./.venv/lib/python3.12/site-packages (from datasets==4.1.1->-r requirements.txt (line 6)) (21.0.0)\n",
      "Requirement already satisfied: dill<0.4.1,>=0.3.0 in ./.venv/lib/python3.12/site-packages (from datasets==4.1.1->-r requirements.txt (line 6)) (0.4.0)\n",
      "Requirement already satisfied: pandas in ./.venv/lib/python3.12/site-packages (from datasets==4.1.1->-r requirements.txt (line 6)) (2.3.3)\n",
      "Requirement already satisfied: xxhash in ./.venv/lib/python3.12/site-packages (from datasets==4.1.1->-r requirements.txt (line 6)) (3.6.0)\n",
      "Requirement already satisfied: multiprocess<0.70.17 in ./.venv/lib/python3.12/site-packages (from datasets==4.1.1->-r requirements.txt (line 6)) (0.70.16)\n",
      "Requirement already satisfied: scipy>=1.8.0 in ./.venv/lib/python3.12/site-packages (from scikit-learn==1.7.2->-r requirements.txt (line 11)) (1.16.2)\n",
      "Requirement already satisfied: joblib>=1.2.0 in ./.venv/lib/python3.12/site-packages (from scikit-learn==1.7.2->-r requirements.txt (line 11)) (1.5.2)\n",
      "Requirement already satisfied: threadpoolctl>=3.1.0 in ./.venv/lib/python3.12/site-packages (from scikit-learn==1.7.2->-r requirements.txt (line 11)) (3.6.0)\n",
      "Requirement already satisfied: dill<0.4.1,>=0.3.0 in ./.venv/lib/python3.12/site-packages (from datasets==4.1.1->-r requirements.txt (line 6)) (0.4.0)\n",
      "Requirement already satisfied: pandas in ./.venv/lib/python3.12/site-packages (from datasets==4.1.1->-r requirements.txt (line 6)) (2.3.3)\n",
      "Requirement already satisfied: xxhash in ./.venv/lib/python3.12/site-packages (from datasets==4.1.1->-r requirements.txt (line 6)) (3.6.0)\n",
      "Requirement already satisfied: multiprocess<0.70.17 in ./.venv/lib/python3.12/site-packages (from datasets==4.1.1->-r requirements.txt (line 6)) (0.70.16)\n",
      "Requirement already satisfied: scipy>=1.8.0 in ./.venv/lib/python3.12/site-packages (from scikit-learn==1.7.2->-r requirements.txt (line 11)) (1.16.2)\n",
      "Requirement already satisfied: joblib>=1.2.0 in ./.venv/lib/python3.12/site-packages (from scikit-learn==1.7.2->-r requirements.txt (line 11)) (1.5.2)\n",
      "Requirement already satisfied: threadpoolctl>=3.1.0 in ./.venv/lib/python3.12/site-packages (from scikit-learn==1.7.2->-r requirements.txt (line 11)) (3.6.0)\n",
      "Requirement already satisfied: aiohttp!=4.0.0a0,!=4.0.0a1 in ./.venv/lib/python3.12/site-packages (from fsspec[http]<=2025.9.0,>=2023.1.0->datasets==4.1.1->-r requirements.txt (line 6)) (3.13.1)\n",
      "Requirement already satisfied: hf-xet<2.0.0,>=1.1.3 in ./.venv/lib/python3.12/site-packages (from huggingface-hub<1.0,>=0.34.0->transformers==4.56.2->-r requirements.txt (line 2)) (1.1.10)\n",
      "Requirement already satisfied: contourpy>=1.0.1 in ./.venv/lib/python3.12/site-packages (from matplotlib->-r requirements.txt (line 15)) (1.3.3)\n",
      "Requirement already satisfied: cycler>=0.10 in ./.venv/lib/python3.12/site-packages (from matplotlib->-r requirements.txt (line 15)) (0.12.1)\n",
      "Requirement already satisfied: fonttools>=4.22.0 in ./.venv/lib/python3.12/site-packages (from matplotlib->-r requirements.txt (line 15)) (4.60.1)\n",
      "Requirement already satisfied: kiwisolver>=1.3.1 in ./.venv/lib/python3.12/site-packages (from matplotlib->-r requirements.txt (line 15)) (1.4.9)\n",
      "Requirement already satisfied: pillow>=8 in ./.venv/lib/python3.12/site-packages (from matplotlib->-r requirements.txt (line 15)) (12.0.0)\n",
      "Requirement already satisfied: pyparsing>=3 in ./.venv/lib/python3.12/site-packages (from matplotlib->-r requirements.txt (line 15)) (3.2.5)\n",
      "Requirement already satisfied: python-dateutil>=2.7 in ./.venv/lib/python3.12/site-packages (from matplotlib->-r requirements.txt (line 15)) (2.9.0.post0)\n",
      "Requirement already satisfied: aiohttp!=4.0.0a0,!=4.0.0a1 in ./.venv/lib/python3.12/site-packages (from fsspec[http]<=2025.9.0,>=2023.1.0->datasets==4.1.1->-r requirements.txt (line 6)) (3.13.1)\n",
      "Requirement already satisfied: hf-xet<2.0.0,>=1.1.3 in ./.venv/lib/python3.12/site-packages (from huggingface-hub<1.0,>=0.34.0->transformers==4.56.2->-r requirements.txt (line 2)) (1.1.10)\n",
      "Requirement already satisfied: contourpy>=1.0.1 in ./.venv/lib/python3.12/site-packages (from matplotlib->-r requirements.txt (line 15)) (1.3.3)\n",
      "Requirement already satisfied: cycler>=0.10 in ./.venv/lib/python3.12/site-packages (from matplotlib->-r requirements.txt (line 15)) (0.12.1)\n",
      "Requirement already satisfied: fonttools>=4.22.0 in ./.venv/lib/python3.12/site-packages (from matplotlib->-r requirements.txt (line 15)) (4.60.1)\n",
      "Requirement already satisfied: kiwisolver>=1.3.1 in ./.venv/lib/python3.12/site-packages (from matplotlib->-r requirements.txt (line 15)) (1.4.9)\n",
      "Requirement already satisfied: pillow>=8 in ./.venv/lib/python3.12/site-packages (from matplotlib->-r requirements.txt (line 15)) (12.0.0)\n",
      "Requirement already satisfied: pyparsing>=3 in ./.venv/lib/python3.12/site-packages (from matplotlib->-r requirements.txt (line 15)) (3.2.5)\n",
      "Requirement already satisfied: python-dateutil>=2.7 in ./.venv/lib/python3.12/site-packages (from matplotlib->-r requirements.txt (line 15)) (2.9.0.post0)\n",
      "Requirement already satisfied: aiohappyeyeballs>=2.5.0 in ./.venv/lib/python3.12/site-packages (from aiohttp!=4.0.0a0,!=4.0.0a1->fsspec[http]<=2025.9.0,>=2023.1.0->datasets==4.1.1->-r requirements.txt (line 6)) (2.6.1)\n",
      "Requirement already satisfied: aiosignal>=1.4.0 in ./.venv/lib/python3.12/site-packages (from aiohttp!=4.0.0a0,!=4.0.0a1->fsspec[http]<=2025.9.0,>=2023.1.0->datasets==4.1.1->-r requirements.txt (line 6)) (1.4.0)\n",
      "Requirement already satisfied: attrs>=17.3.0 in ./.venv/lib/python3.12/site-packages (from aiohttp!=4.0.0a0,!=4.0.0a1->fsspec[http]<=2025.9.0,>=2023.1.0->datasets==4.1.1->-r requirements.txt (line 6)) (25.4.0)\n",
      "Requirement already satisfied: frozenlist>=1.1.1 in ./.venv/lib/python3.12/site-packages (from aiohttp!=4.0.0a0,!=4.0.0a1->fsspec[http]<=2025.9.0,>=2023.1.0->datasets==4.1.1->-r requirements.txt (line 6)) (1.8.0)\n",
      "Requirement already satisfied: multidict<7.0,>=4.5 in ./.venv/lib/python3.12/site-packages (from aiohttp!=4.0.0a0,!=4.0.0a1->fsspec[http]<=2025.9.0,>=2023.1.0->datasets==4.1.1->-r requirements.txt (line 6)) (6.7.0)\n",
      "Requirement already satisfied: propcache>=0.2.0 in ./.venv/lib/python3.12/site-packages (from aiohttp!=4.0.0a0,!=4.0.0a1->fsspec[http]<=2025.9.0,>=2023.1.0->datasets==4.1.1->-r requirements.txt (line 6)) (0.4.1)\n",
      "Requirement already satisfied: yarl<2.0,>=1.17.0 in ./.venv/lib/python3.12/site-packages (from aiohttp!=4.0.0a0,!=4.0.0a1->fsspec[http]<=2025.9.0,>=2023.1.0->datasets==4.1.1->-r requirements.txt (line 6)) (1.22.0)\n",
      "Requirement already satisfied: idna>=2.0 in ./.venv/lib/python3.12/site-packages (from yarl<2.0,>=1.17.0->aiohttp!=4.0.0a0,!=4.0.0a1->fsspec[http]<=2025.9.0,>=2023.1.0->datasets==4.1.1->-r requirements.txt (line 6)) (3.11)\n",
      "Requirement already satisfied: aiohappyeyeballs>=2.5.0 in ./.venv/lib/python3.12/site-packages (from aiohttp!=4.0.0a0,!=4.0.0a1->fsspec[http]<=2025.9.0,>=2023.1.0->datasets==4.1.1->-r requirements.txt (line 6)) (2.6.1)\n",
      "Requirement already satisfied: aiosignal>=1.4.0 in ./.venv/lib/python3.12/site-packages (from aiohttp!=4.0.0a0,!=4.0.0a1->fsspec[http]<=2025.9.0,>=2023.1.0->datasets==4.1.1->-r requirements.txt (line 6)) (1.4.0)\n",
      "Requirement already satisfied: attrs>=17.3.0 in ./.venv/lib/python3.12/site-packages (from aiohttp!=4.0.0a0,!=4.0.0a1->fsspec[http]<=2025.9.0,>=2023.1.0->datasets==4.1.1->-r requirements.txt (line 6)) (25.4.0)\n",
      "Requirement already satisfied: frozenlist>=1.1.1 in ./.venv/lib/python3.12/site-packages (from aiohttp!=4.0.0a0,!=4.0.0a1->fsspec[http]<=2025.9.0,>=2023.1.0->datasets==4.1.1->-r requirements.txt (line 6)) (1.8.0)\n",
      "Requirement already satisfied: multidict<7.0,>=4.5 in ./.venv/lib/python3.12/site-packages (from aiohttp!=4.0.0a0,!=4.0.0a1->fsspec[http]<=2025.9.0,>=2023.1.0->datasets==4.1.1->-r requirements.txt (line 6)) (6.7.0)\n",
      "Requirement already satisfied: propcache>=0.2.0 in ./.venv/lib/python3.12/site-packages (from aiohttp!=4.0.0a0,!=4.0.0a1->fsspec[http]<=2025.9.0,>=2023.1.0->datasets==4.1.1->-r requirements.txt (line 6)) (0.4.1)\n",
      "Requirement already satisfied: yarl<2.0,>=1.17.0 in ./.venv/lib/python3.12/site-packages (from aiohttp!=4.0.0a0,!=4.0.0a1->fsspec[http]<=2025.9.0,>=2023.1.0->datasets==4.1.1->-r requirements.txt (line 6)) (1.22.0)\n",
      "Requirement already satisfied: idna>=2.0 in ./.venv/lib/python3.12/site-packages (from yarl<2.0,>=1.17.0->aiohttp!=4.0.0a0,!=4.0.0a1->fsspec[http]<=2025.9.0,>=2023.1.0->datasets==4.1.1->-r requirements.txt (line 6)) (3.11)\n",
      "Requirement already satisfied: six>=1.5 in ./.venv/lib/python3.12/site-packages (from python-dateutil>=2.7->matplotlib->-r requirements.txt (line 15)) (1.17.0)\n",
      "Requirement already satisfied: charset_normalizer<4,>=2 in ./.venv/lib/python3.12/site-packages (from requests->transformers==4.56.2->-r requirements.txt (line 2)) (3.4.4)\n",
      "Requirement already satisfied: urllib3<3,>=1.21.1 in ./.venv/lib/python3.12/site-packages (from requests->transformers==4.56.2->-r requirements.txt (line 2)) (2.5.0)\n",
      "Requirement already satisfied: certifi>=2017.4.17 in ./.venv/lib/python3.12/site-packages (from requests->transformers==4.56.2->-r requirements.txt (line 2)) (2025.10.5)\n",
      "Requirement already satisfied: six>=1.5 in ./.venv/lib/python3.12/site-packages (from python-dateutil>=2.7->matplotlib->-r requirements.txt (line 15)) (1.17.0)\n",
      "Requirement already satisfied: charset_normalizer<4,>=2 in ./.venv/lib/python3.12/site-packages (from requests->transformers==4.56.2->-r requirements.txt (line 2)) (3.4.4)\n",
      "Requirement already satisfied: urllib3<3,>=1.21.1 in ./.venv/lib/python3.12/site-packages (from requests->transformers==4.56.2->-r requirements.txt (line 2)) (2.5.0)\n",
      "Requirement already satisfied: certifi>=2017.4.17 in ./.venv/lib/python3.12/site-packages (from requests->transformers==4.56.2->-r requirements.txt (line 2)) (2025.10.5)\n",
      "Requirement already satisfied: mpmath<1.4,>=1.1.0 in ./.venv/lib/python3.12/site-packages (from sympy>=1.13.3->torch==2.8.0->-r requirements.txt (line 1)) (1.3.0)\n",
      "Requirement already satisfied: docstring-parser>=0.15 in ./.venv/lib/python3.12/site-packages (from tyro>=0.5.11->trl==0.10.1->-r requirements.txt (line 4)) (0.17.0)\n",
      "Requirement already satisfied: mpmath<1.4,>=1.1.0 in ./.venv/lib/python3.12/site-packages (from sympy>=1.13.3->torch==2.8.0->-r requirements.txt (line 1)) (1.3.0)\n",
      "Requirement already satisfied: docstring-parser>=0.15 in ./.venv/lib/python3.12/site-packages (from tyro>=0.5.11->trl==0.10.1->-r requirements.txt (line 4)) (0.17.0)\n",
      "Requirement already satisfied: rich>=11.1.0 in ./.venv/lib/python3.12/site-packages (from tyro>=0.5.11->trl==0.10.1->-r requirements.txt (line 4)) (14.2.0)\n",
      "Requirement already satisfied: shtab>=1.5.6 in ./.venv/lib/python3.12/site-packages (from tyro>=0.5.11->trl==0.10.1->-r requirements.txt (line 4)) (1.7.2)\n",
      "Requirement already satisfied: typeguard>=4.0.0 in ./.venv/lib/python3.12/site-packages (from tyro>=0.5.11->trl==0.10.1->-r requirements.txt (line 4)) (4.4.4)\n",
      "Requirement already satisfied: markdown-it-py>=2.2.0 in ./.venv/lib/python3.12/site-packages (from rich>=11.1.0->tyro>=0.5.11->trl==0.10.1->-r requirements.txt (line 4)) (4.0.0)\n",
      "Requirement already satisfied: pygments<3.0.0,>=2.13.0 in ./.venv/lib/python3.12/site-packages (from rich>=11.1.0->tyro>=0.5.11->trl==0.10.1->-r requirements.txt (line 4)) (2.19.2)\n",
      "Requirement already satisfied: mdurl~=0.1 in ./.venv/lib/python3.12/site-packages (from markdown-it-py>=2.2.0->rich>=11.1.0->tyro>=0.5.11->trl==0.10.1->-r requirements.txt (line 4)) (0.1.2)\n",
      "Requirement already satisfied: MarkupSafe>=2.0 in ./.venv/lib/python3.12/site-packages (from jinja2->torch==2.8.0->-r requirements.txt (line 1)) (3.0.3)\n",
      "Requirement already satisfied: rich>=11.1.0 in ./.venv/lib/python3.12/site-packages (from tyro>=0.5.11->trl==0.10.1->-r requirements.txt (line 4)) (14.2.0)\n",
      "Requirement already satisfied: shtab>=1.5.6 in ./.venv/lib/python3.12/site-packages (from tyro>=0.5.11->trl==0.10.1->-r requirements.txt (line 4)) (1.7.2)\n",
      "Requirement already satisfied: typeguard>=4.0.0 in ./.venv/lib/python3.12/site-packages (from tyro>=0.5.11->trl==0.10.1->-r requirements.txt (line 4)) (4.4.4)\n",
      "Requirement already satisfied: markdown-it-py>=2.2.0 in ./.venv/lib/python3.12/site-packages (from rich>=11.1.0->tyro>=0.5.11->trl==0.10.1->-r requirements.txt (line 4)) (4.0.0)\n",
      "Requirement already satisfied: pygments<3.0.0,>=2.13.0 in ./.venv/lib/python3.12/site-packages (from rich>=11.1.0->tyro>=0.5.11->trl==0.10.1->-r requirements.txt (line 4)) (2.19.2)\n",
      "Requirement already satisfied: mdurl~=0.1 in ./.venv/lib/python3.12/site-packages (from markdown-it-py>=2.2.0->rich>=11.1.0->tyro>=0.5.11->trl==0.10.1->-r requirements.txt (line 4)) (0.1.2)\n",
      "Requirement already satisfied: MarkupSafe>=2.0 in ./.venv/lib/python3.12/site-packages (from jinja2->torch==2.8.0->-r requirements.txt (line 1)) (3.0.3)\n",
      "Requirement already satisfied: pytz>=2020.1 in ./.venv/lib/python3.12/site-packages (from pandas->datasets==4.1.1->-r requirements.txt (line 6)) (2025.2)\n",
      "Requirement already satisfied: tzdata>=2022.7 in ./.venv/lib/python3.12/site-packages (from pandas->datasets==4.1.1->-r requirements.txt (line 6)) (2025.2)\n",
      "Requirement already satisfied: pytz>=2020.1 in ./.venv/lib/python3.12/site-packages (from pandas->datasets==4.1.1->-r requirements.txt (line 6)) (2025.2)\n",
      "Requirement already satisfied: tzdata>=2022.7 in ./.venv/lib/python3.12/site-packages (from pandas->datasets==4.1.1->-r requirements.txt (line 6)) (2025.2)\n",
      "Note: you may need to restart the kernel to use updated packages.\n",
      "Note: you may need to restart the kernel to use updated packages.\n"
     ]
    }
   ],
   "source": [
    "# install the required libraries if you have not done so (on you local machine or GPU server)\n",
    "# you may not need to run this if you use colab as they are pre-installed, but you can always do it.\n",
    "%pip install -r requirements.txt"
   ]
  },
  {
   "cell_type": "code",
   "execution_count": 5,
   "id": "54dab5ec",
   "metadata": {
    "id": "54dab5ec"
   },
   "outputs": [],
   "source": [
    "import os, math, argparse\n",
    "os.environ.setdefault(\"TRANSFORMERS_NO_TORCHVISION\", \"1\")\n",
    "\n",
    "import torch\n",
    "import numpy as np\n",
    "from datasets import load_from_disk\n",
    "from torch.utils.data import DataLoader\n",
    "from transformers import AutoTokenizer, AutoModelForCausalLM\n",
    "from sklearn.metrics import roc_auc_score, roc_curve, auc as _auc\n",
    "import matplotlib.pyplot as plt\n",
    "import json\n",
    "from pathlib import Path\n",
    "from datasets import Dataset"
   ]
  },
  {
   "cell_type": "code",
   "execution_count": 6,
   "id": "709e4b5d",
   "metadata": {
    "id": "709e4b5d"
   },
   "outputs": [],
   "source": [
    "# global variable, check the current position to adjust the path\n",
    "target_model_dir = \"./models/gpt2_phase1\"\n",
    "data_dir = \"./data/wiki_json\"\n",
    "batch_size = 25\n",
    "\n",
    "# you may change block size if you like (max length for the tokenizer below)\n",
    "block_size = 256"
   ]
  },
  {
   "cell_type": "markdown",
   "id": "fef38029",
   "metadata": {
    "id": "fef38029"
   },
   "source": [
    "### Data pre-processing"
   ]
  },
  {
   "cell_type": "code",
   "execution_count": 7,
   "id": "7f06ed9d",
   "metadata": {
    "id": "7f06ed9d"
   },
   "outputs": [],
   "source": [
    "def tokenize_dataset(ds, tok, max_len):\n",
    "    ds = ds.filter(lambda ex: ex.get(\"text\", None) and len(ex[\"text\"].strip()) > 0)\n",
    "\n",
    "    def _map(ex):\n",
    "        out = tok(ex[\"text\"], truncation=True, padding=True, max_length=max_len, return_attention_mask=True)\n",
    "        out[\"labels\"] = out[\"input_ids\"].copy()\n",
    "        return out\n",
    "\n",
    "    ds = ds.map(_map, batched=True, remove_columns=ds.column_names)\n",
    "    ds.set_format(type=\"torch\", columns=[\"input_ids\", \"attention_mask\", \"labels\"])\n",
    "    return ds\n",
    "\n",
    "def _read_json(path: Path):\n",
    "    with path.open(\"r\", encoding=\"utf-8\") as f:\n",
    "        return json.load(f)"
   ]
  },
  {
   "cell_type": "code",
   "execution_count": 8,
   "id": "c040ba66",
   "metadata": {
    "id": "c040ba66"
   },
   "outputs": [
    {
     "data": {
      "application/vnd.jupyter.widget-view+json": {
       "model_id": "17024e0946204c0f9f2a5b49f5fa588c",
       "version_major": 2,
       "version_minor": 0
      },
      "text/plain": [
       "Filter:   0%|          | 0/2000 [00:00<?, ? examples/s]"
      ]
     },
     "metadata": {},
     "output_type": "display_data"
    },
    {
     "data": {
      "application/vnd.jupyter.widget-view+json": {
       "model_id": "bf579cffd58048f89e510cc0d636ca0e",
       "version_major": 2,
       "version_minor": 0
      },
      "text/plain": [
       "Map:   0%|          | 0/2000 [00:00<?, ? examples/s]"
      ]
     },
     "metadata": {},
     "output_type": "display_data"
    }
   ],
   "source": [
    "# for tests, you may only load a part of the data to save time while implementing,\n",
    "# as running all 2000 samples on CPU may be slow, but not a problem here for GPU\n",
    "\n",
    "# load test data\n",
    "data_dir = Path(data_dir)\n",
    "test_path = data_dir / \"test.json\"\n",
    "test_items = _read_json(test_path)\n",
    "ds_test = Dataset.from_dict({\"text\": test_items})\n",
    "\n",
    "# tokenizer the test data\n",
    "tokenizer = AutoTokenizer.from_pretrained(target_model_dir, use_fast=True)\n",
    "if tokenizer.pad_token is None:\n",
    "    tokenizer.pad_token = tokenizer.eos_token\n",
    "tokenizer.padding_side=\"right\"\n",
    "\n",
    "ds_test = tokenize_dataset(ds_test, tokenizer, block_size)\n",
    "dl_test = DataLoader(ds_test, batch_size=batch_size)\n",
    "\n",
    "device = torch.device(\"cuda\" if torch.cuda.is_available() else \"cpu\")\n",
    "\n",
    "# you may load the model using the code:\n",
    "# model = AutoModelForCausalLM.from_pretrained(target_model_dir, dtype=\"auto\").to(device)"
   ]
  },
  {
   "cell_type": "code",
   "execution_count": 9,
   "id": "aCC0VFGmqziA",
   "metadata": {
    "id": "aCC0VFGmqziA"
   },
   "outputs": [],
   "source": [
    "model = AutoModelForCausalLM.from_pretrained(target_model_dir, dtype=\"auto\").to(device)"
   ]
  },
  {
   "cell_type": "code",
   "execution_count": 10,
   "id": "a9cacb0f",
   "metadata": {},
   "outputs": [
    {
     "name": "stdout",
     "output_type": "stream",
     "text": [
      "Using device: cuda\n",
      "Model is on device: cuda:0\n",
      "GPU Name: NVIDIA GeForce RTX 5070 Ti\n",
      "GPU Memory Allocated: 0.48 GB\n",
      "GPU Memory Reserved: 0.53 GB\n"
     ]
    }
   ],
   "source": [
    "# Verify GPU usage\n",
    "print(f\"Using device: {device}\")\n",
    "print(f\"Model is on device: {next(model.parameters()).device}\")\n",
    "if torch.cuda.is_available():\n",
    "    print(f\"GPU Name: {torch.cuda.get_device_name(0)}\")\n",
    "    print(f\"GPU Memory Allocated: {torch.cuda.memory_allocated(0) / 1024**3:.2f} GB\")\n",
    "    print(f\"GPU Memory Reserved: {torch.cuda.memory_reserved(0) / 1024**3:.2f} GB\")\n",
    "else:\n",
    "    print(\"⚠️ WARNING: GPU not available! Running on CPU (will be slower)\")\n",
    "    print(\"To use GPU in WSL2:\")\n",
    "    print(\"1. Install NVIDIA drivers on Windows\")\n",
    "    print(\"2. Install CUDA toolkit in WSL2\")\n",
    "    print(\"3. Reinstall PyTorch with CUDA support\")"
   ]
  },
  {
   "cell_type": "markdown",
   "id": "e72c1fef",
   "metadata": {
    "id": "e72c1fef"
   },
   "source": [
    "### MIA\n",
    "\n",
    "Implement your attack here!"
   ]
  },
  {
   "cell_type": "code",
   "execution_count": 11,
   "id": "9259878b",
   "metadata": {},
   "outputs": [
    {
     "name": "stdout",
     "output_type": "stream",
     "text": [
      "Running Loss-based Attack...\n"
     ]
    },
    {
     "name": "stderr",
     "output_type": "stream",
     "text": [
      "`loss_type=None` was set in the config but it is unrecognized. Using the default loss: `ForCausalLMLoss`.\n"
     ]
    },
    {
     "name": "stdout",
     "output_type": "stream",
     "text": [
      "Loss-based attack completed! Generated 2000 scores.\n",
      "Score range: [-10.2728, -1.9094]\n"
     ]
    }
   ],
   "source": [
    "# Attack 1: Loss-based Attack\n",
    "# Uses CrossEntropyLoss - lower loss indicates the model is more confident (likely saw during training)\n",
    "# We return negative loss so higher score = more likely member\n",
    "\n",
    "@torch.no_grad()\n",
    "def loss_based_attack(model, dataloader, device):\n",
    "    \"\"\"\n",
    "    Compute average loss for each sample.\n",
    "    Higher loss = less likely to be in training set (model struggles with it).\n",
    "    Returns negative loss so higher score = more likely member.\n",
    "    \"\"\"\n",
    "    model.eval()\n",
    "    all_losses = []\n",
    "    \n",
    "    for batch in dataloader:\n",
    "        input_ids = batch[\"input_ids\"].to(device)\n",
    "        attention_mask = batch[\"attention_mask\"].to(device)\n",
    "        labels = batch[\"labels\"].to(device)\n",
    "        \n",
    "        outputs = model(input_ids=input_ids, attention_mask=attention_mask, labels=labels)\n",
    "        \n",
    "        # Get per-sample loss\n",
    "        loss_fct = torch.nn.CrossEntropyLoss(reduction='none')\n",
    "        shift_logits = outputs.logits[..., :-1, :].contiguous()\n",
    "        shift_labels = labels[..., 1:].contiguous()\n",
    "        \n",
    "        # Compute loss for each token\n",
    "        losses = loss_fct(shift_logits.view(-1, shift_logits.size(-1)), shift_labels.view(-1))\n",
    "        \n",
    "        # Average loss per sample (reshape and mean over sequence length)\n",
    "        losses = losses.view(shift_labels.size(0), -1).mean(dim=1)\n",
    "        all_losses.extend(losses.cpu().numpy())\n",
    "    \n",
    "    # Return negative loss (lower loss = higher score = more likely member)\n",
    "    return -np.array(all_losses)\n",
    "\n",
    "print(\"Running Loss-based Attack...\")\n",
    "scores_loss = loss_based_attack(model, dl_test, device)\n",
    "print(f\"Loss-based attack completed! Generated {len(scores_loss)} scores.\")\n",
    "print(f\"Score range: [{scores_loss.min():.4f}, {scores_loss.max():.4f}]\")"
   ]
  },
  {
   "cell_type": "code",
   "execution_count": 12,
   "id": "d4a04b3b",
   "metadata": {},
   "outputs": [
    {
     "name": "stdout",
     "output_type": "stream",
     "text": [
      "Running Min-K Attack (k=20%)...\n",
      "Min-K attack completed! Generated 2000 scores.\n",
      "Score range: [-7.3638, -0.0027]\n",
      "Min-K attack completed! Generated 2000 scores.\n",
      "Score range: [-7.3638, -0.0027]\n"
     ]
    }
   ],
   "source": [
    "# Attack 2: Min-K% Attack\n",
    "# Uses the average of the K% smallest token-level losses\n",
    "# Intuition: Training samples have consistently low losses, non-training samples have some very low losses (lucky guesses)\n",
    "# By taking minimum losses, we filter out the noise\n",
    "\n",
    "@torch.no_grad()\n",
    "def mink_attack(model, dataloader, device, k=0.2):\n",
    "    \"\"\"\n",
    "    Min-K attack: Use the average of the K% smallest token-level losses.\n",
    "    Lower min-k loss = model is confident on the easiest tokens = likely training sample.\n",
    "    Returns negative min-k loss so higher score = more likely member.\n",
    "    \n",
    "    Args:\n",
    "        k: percentage of smallest losses to consider (default 0.2 = 20%)\n",
    "    \"\"\"\n",
    "    model.eval()\n",
    "    all_mink_losses = []\n",
    "    \n",
    "    for batch in dataloader:\n",
    "        input_ids = batch[\"input_ids\"].to(device)\n",
    "        attention_mask = batch[\"attention_mask\"].to(device)\n",
    "        labels = batch[\"labels\"].to(device)\n",
    "        \n",
    "        outputs = model(input_ids=input_ids, attention_mask=attention_mask, labels=labels)\n",
    "        \n",
    "        # Get per-token loss\n",
    "        loss_fct = torch.nn.CrossEntropyLoss(reduction='none')\n",
    "        shift_logits = outputs.logits[..., :-1, :].contiguous()\n",
    "        shift_labels = labels[..., 1:].contiguous()\n",
    "        \n",
    "        # Compute loss for each token\n",
    "        losses = loss_fct(shift_logits.view(-1, shift_logits.size(-1)), shift_labels.view(-1))\n",
    "        losses = losses.view(shift_labels.size(0), -1)  # [batch_size, seq_len]\n",
    "        \n",
    "        # For each sample, take the average of the k% smallest losses\n",
    "        for sample_losses in losses:\n",
    "            # Remove padding tokens (where loss might be 0 or very small)\n",
    "            valid_losses = sample_losses[sample_losses > 0]\n",
    "            if len(valid_losses) == 0:\n",
    "                all_mink_losses.append(0)\n",
    "                continue\n",
    "            \n",
    "            # Get k% smallest losses\n",
    "            k_count = max(1, int(len(valid_losses) * k))\n",
    "            mink_losses = torch.topk(valid_losses, k_count, largest=False).values\n",
    "            mink_avg = mink_losses.mean().item()\n",
    "            all_mink_losses.append(mink_avg)\n",
    "    \n",
    "    # Return negative min-k loss (lower loss = higher score = more likely member)\n",
    "    return -np.array(all_mink_losses)\n",
    "\n",
    "print(\"Running Min-K Attack (k=20%)...\")\n",
    "scores_mink = mink_attack(model, dl_test, device, k=0.2)\n",
    "print(f\"Min-K attack completed! Generated {len(scores_mink)} scores.\")\n",
    "print(f\"Score range: [{scores_mink.min():.4f}, {scores_mink.max():.4f}]\")"
   ]
  },
  {
   "cell_type": "code",
   "execution_count": 13,
   "id": "7621b418",
   "metadata": {},
   "outputs": [
    {
     "name": "stdout",
     "output_type": "stream",
     "text": [
      "Running Zlib Attack...\n",
      "Zlib attack completed! Generated 2000 scores.\n",
      "Score range: [-0.1366, -0.0019]\n",
      "Zlib attack completed! Generated 2000 scores.\n",
      "Score range: [-0.1366, -0.0019]\n"
     ]
    }
   ],
   "source": [
    "# Attack 3: Zlib Attack\n",
    "# Normalizes loss by text compressibility\n",
    "# Intuition: Some texts are inherently harder (less compressible), so higher loss is expected\n",
    "# Normalizing by compression size accounts for text difficulty\n",
    "\n",
    "import zlib\n",
    "\n",
    "@torch.no_grad()\n",
    "def zlib_attack(model, dataloader, device, tokenizer, test_items):\n",
    "    \"\"\"\n",
    "    Zlib attack: Calibrate loss with text's compression size.\n",
    "    score(x) = loss(x) / zlib_size(x)\n",
    "    \n",
    "    Intuition: Longer/more complex texts naturally have higher loss.\n",
    "    Zlib compression size approximates text complexity.\n",
    "    Lower normalized loss = more likely member.\n",
    "    \n",
    "    Returns negative normalized loss so higher score = more likely member.\n",
    "    \"\"\"\n",
    "    model.eval()\n",
    "    all_scores = []\n",
    "    sample_idx = 0\n",
    "    \n",
    "    for batch in dataloader:\n",
    "        input_ids = batch[\"input_ids\"].to(device)\n",
    "        attention_mask = batch[\"attention_mask\"].to(device)\n",
    "        labels = batch[\"labels\"].to(device)\n",
    "        \n",
    "        outputs = model(input_ids=input_ids, attention_mask=attention_mask, labels=labels)\n",
    "        \n",
    "        # Get per-sample loss\n",
    "        loss_fct = torch.nn.CrossEntropyLoss(reduction='none')\n",
    "        shift_logits = outputs.logits[..., :-1, :].contiguous()\n",
    "        shift_labels = labels[..., 1:].contiguous()\n",
    "        \n",
    "        # Compute loss for each token\n",
    "        losses = loss_fct(shift_logits.view(-1, shift_logits.size(-1)), shift_labels.view(-1))\n",
    "        losses = losses.view(shift_labels.size(0), -1).mean(dim=1)  # Average per sample\n",
    "        \n",
    "        # Get zlib compression size for each sample\n",
    "        for i, loss in enumerate(losses):\n",
    "            text = test_items[sample_idx]\n",
    "            # Compute zlib compression size (in bytes)\n",
    "            compressed = zlib.compress(text.encode('utf-8'))\n",
    "            zlib_size = len(compressed)\n",
    "            \n",
    "            # Normalize loss by compression size\n",
    "            normalized_score = loss.item() / zlib_size if zlib_size > 0 else loss.item()\n",
    "            all_scores.append(normalized_score)\n",
    "            sample_idx += 1\n",
    "    \n",
    "    # Return negative normalized loss (lower = higher score = more likely member)\n",
    "    return -np.array(all_scores)\n",
    "\n",
    "print(\"Running Zlib Attack...\")\n",
    "scores_zlib = zlib_attack(model, dl_test, device, tokenizer, test_items)\n",
    "print(f\"Zlib attack completed! Generated {len(scores_zlib)} scores.\")\n",
    "print(f\"Score range: [{scores_zlib.min():.4f}, {scores_zlib.max():.4f}]\")"
   ]
  },
  {
   "cell_type": "code",
   "execution_count": 14,
   "id": "6349a247",
   "metadata": {},
   "outputs": [
    {
     "name": "stdout",
     "output_type": "stream",
     "text": [
      "Running Custom Loss Attack (with proper padding handling)...\n",
      "Custom loss attack completed! Generated 2000 scores.\n",
      "Score range: [-6.3418, -1.5261]\n",
      "Custom loss attack completed! Generated 2000 scores.\n",
      "Score range: [-6.3418, -1.5261]\n"
     ]
    }
   ],
   "source": [
    "# Attack 4: Custom Loss Attack (with better padding handling)\n",
    "# This is an improved version of the loss-based attack with explicit attention masking\n",
    "# Ensures padding tokens don't affect the loss calculation\n",
    "\n",
    "import torch.nn.functional as F\n",
    "\n",
    "@torch.no_grad()\n",
    "def loss_attack(model, dataloader, device):\n",
    "    \"\"\"\n",
    "    Loss-based attack with explicit memory management and proper padding handling.\n",
    "    \n",
    "    Key improvement: Explicitly masks out padding tokens using attention mask,\n",
    "    which gives more accurate per-sample loss estimates.\n",
    "    \"\"\"\n",
    "    model.eval()\n",
    "    scores = []\n",
    "\n",
    "    for batch in dataloader:\n",
    "        input_ids = batch[\"input_ids\"].to(device)\n",
    "        attention_mask = batch[\"attention_mask\"].to(device)\n",
    "        labels = batch[\"labels\"].to(device)\n",
    "\n",
    "        # forward, get logits (B, L, V)\n",
    "        outputs = model(input_ids=input_ids, attention_mask=attention_mask)\n",
    "        logits = outputs.logits\n",
    "\n",
    "        B, L, V = logits.shape\n",
    "\n",
    "        # logits[:, t-1] predicts token at t\n",
    "        pred_logits = logits[:, :-1, :].contiguous()   # (B, L-1, V)\n",
    "        target_labels = labels[:, 1:].contiguous()     # (B, L-1)\n",
    "        attn = attention_mask[:, 1:].contiguous()      # (B, L-1)\n",
    "\n",
    "        # per-token cross-entropy\n",
    "        flat_logits = pred_logits.view(-1, V)          # (B*(L-1), V)\n",
    "        flat_labels = target_labels.view(-1)           # (B*(L-1),)\n",
    "        per_token_loss = F.cross_entropy(flat_logits, flat_labels, reduction=\"none\")\n",
    "        per_token_loss = per_token_loss.view(B, L-1)   # (B, L-1)\n",
    "\n",
    "        # mask out padding tokens - THIS IS THE KEY IMPROVEMENT\n",
    "        attn = attn.to(dtype=per_token_loss.dtype)\n",
    "        masked = per_token_loss * attn\n",
    "\n",
    "        # per-sample mean (only over non-padding tokens)\n",
    "        token_counts = attn.sum(dim=1)                 # (B,)\n",
    "        safe_counts = token_counts.clone()\n",
    "        safe_counts[safe_counts == 0] = 1.0\n",
    "\n",
    "        per_example_mean = (masked.sum(dim=1) / safe_counts).cpu().numpy()  # (B,)\n",
    "\n",
    "        # score = - mean_loss (lower loss = higher score = more likely member)\n",
    "        scores.extend((-per_example_mean).tolist())\n",
    "\n",
    "        # Clean up GPU memory\n",
    "        del input_ids, attention_mask, labels, outputs, logits, pred_logits, flat_logits, flat_labels, per_token_loss, masked\n",
    "        if device.type == \"cuda\":\n",
    "            torch.cuda.empty_cache()\n",
    "\n",
    "    return np.array(scores)\n",
    "\n",
    "print(\"Running Custom Loss Attack (with proper padding handling)...\")\n",
    "scores_custom = loss_attack(model, dl_test, device)\n",
    "print(f\"Custom loss attack completed! Generated {len(scores_custom)} scores.\")\n",
    "print(f\"Score range: [{scores_custom.min():.4f}, {scores_custom.max():.4f}]\")"
   ]
  },
  {
   "cell_type": "markdown",
   "id": "d2b21956",
   "metadata": {},
   "source": [
    "### Advanced Techniques for Better MIA Performance\n",
    "\n",
    "Here are several tweaks you can try to improve your attack results:"
   ]
  },
  {
   "cell_type": "code",
   "execution_count": 19,
   "id": "b5d9139e",
   "metadata": {},
   "outputs": [
    {
     "name": "stdout",
     "output_type": "stream",
     "text": [
      "Testing different Min-K parameters...\n",
      "Min-K (k=10%) completed. Score range: [-5.4427, -0.0001]\n"
     ]
    }
   ],
   "source": [
    "# Advanced Attack 1: Min-K with Different K Values\n",
    "# Try different k values - smaller k (e.g., 10%) focuses on the easiest tokens\n",
    "\n",
    "@torch.no_grad()\n",
    "def mink_attack_tuned(model, dataloader, device, k=0.1):\n",
    "    \"\"\"\n",
    "    Try k=0.1 (10%) or k=0.05 (5%) - focusing on fewer, easier tokens\n",
    "    may better distinguish training vs non-training samples.\n",
    "    \"\"\"\n",
    "    model.eval()\n",
    "    all_mink_losses = []\n",
    "    \n",
    "    for batch in dataloader:\n",
    "        input_ids = batch[\"input_ids\"].to(device)\n",
    "        attention_mask = batch[\"attention_mask\"].to(device)\n",
    "        labels = batch[\"labels\"].to(device)\n",
    "        \n",
    "        outputs = model(input_ids=input_ids, attention_mask=attention_mask, labels=labels)\n",
    "        \n",
    "        loss_fct = torch.nn.CrossEntropyLoss(reduction='none')\n",
    "        shift_logits = outputs.logits[..., :-1, :].contiguous()\n",
    "        shift_labels = labels[..., 1:].contiguous()\n",
    "        \n",
    "        losses = loss_fct(shift_logits.view(-1, shift_logits.size(-1)), shift_labels.view(-1))\n",
    "        losses = losses.view(shift_labels.size(0), -1)\n",
    "        \n",
    "        for sample_losses in losses:\n",
    "            valid_losses = sample_losses[sample_losses > 0]\n",
    "            if len(valid_losses) == 0:\n",
    "                all_mink_losses.append(0)\n",
    "                continue\n",
    "            \n",
    "            k_count = max(1, int(len(valid_losses) * k))\n",
    "            mink_losses = torch.topk(valid_losses, k_count, largest=False).values\n",
    "            mink_avg = mink_losses.mean().item()\n",
    "            all_mink_losses.append(mink_avg)\n",
    "    \n",
    "    return -np.array(all_mink_losses)\n",
    "\n",
    "# Try different k values\n",
    "print(\"Testing different Min-K parameters...\")\n",
    "scores_mink_10 = mink_attack_tuned(model, dl_test, device, k=0.1)\n",
    "print(f\"Min-K (k=10%) completed. Score range: [{scores_mink_10.min():.4f}, {scores_mink_10.max():.4f}]\")"
   ]
  },
  {
   "cell_type": "code",
   "execution_count": 20,
   "id": "3b0d099c",
   "metadata": {},
   "outputs": [
    {
     "name": "stdout",
     "output_type": "stream",
     "text": [
      "Running Perplexity-based Attack...\n",
      "Perplexity attack completed. Score range: [-567.8197, -4.6000]\n"
     ]
    }
   ],
   "source": [
    "# Advanced Attack 2: Perplexity-based Attack\n",
    "# Perplexity = exp(loss) - sometimes better than raw loss\n",
    "\n",
    "@torch.no_grad()\n",
    "def perplexity_attack(model, dataloader, device):\n",
    "    \"\"\"\n",
    "    Use perplexity (exp of average loss) instead of loss.\n",
    "    Perplexity has better numerical properties and may separate better.\n",
    "    \"\"\"\n",
    "    model.eval()\n",
    "    all_perplexities = []\n",
    "    \n",
    "    for batch in dataloader:\n",
    "        input_ids = batch[\"input_ids\"].to(device)\n",
    "        attention_mask = batch[\"attention_mask\"].to(device)\n",
    "        labels = batch[\"labels\"].to(device)\n",
    "        \n",
    "        outputs = model(input_ids=input_ids, attention_mask=attention_mask, labels=labels)\n",
    "        \n",
    "        loss_fct = torch.nn.CrossEntropyLoss(reduction='none')\n",
    "        shift_logits = outputs.logits[..., :-1, :].contiguous()\n",
    "        shift_labels = labels[..., 1:].contiguous()\n",
    "        \n",
    "        losses = loss_fct(shift_logits.view(-1, shift_logits.size(-1)), shift_labels.view(-1))\n",
    "        losses = losses.view(shift_labels.size(0), -1)\n",
    "        \n",
    "        # Mask padding and compute mean loss\n",
    "        shift_mask = attention_mask[:, 1:].contiguous()\n",
    "        masked_losses = losses * shift_mask\n",
    "        token_counts = shift_mask.sum(dim=1)\n",
    "        mean_losses = masked_losses.sum(dim=1) / torch.clamp(token_counts, min=1)\n",
    "        \n",
    "        # Convert to perplexity\n",
    "        perplexities = torch.exp(mean_losses).cpu().numpy()\n",
    "        all_perplexities.extend(perplexities)\n",
    "    \n",
    "    # Return negative perplexity (lower perplexity = more likely member)\n",
    "    return -np.array(all_perplexities)\n",
    "\n",
    "print(\"Running Perplexity-based Attack...\")\n",
    "scores_perplexity = perplexity_attack(model, dl_test, device)\n",
    "print(f\"Perplexity attack completed. Score range: [{scores_perplexity.min():.4f}, {scores_perplexity.max():.4f}]\")"
   ]
  },
  {
   "cell_type": "code",
   "execution_count": 21,
   "id": "31f26146",
   "metadata": {},
   "outputs": [
    {
     "name": "stdout",
     "output_type": "stream",
     "text": [
      "Creating Ensemble Attack...\n",
      "Ensemble attack completed. Score range: [0.0781, 0.9826]\n"
     ]
    }
   ],
   "source": [
    "# Advanced Attack 3: Ensemble Attack\n",
    "# Combine multiple attacks - often the best approach!\n",
    "\n",
    "@torch.no_grad()\n",
    "def ensemble_attack(scores_dict, weights=None):\n",
    "    \"\"\"\n",
    "    Combine multiple attack scores using weighted average.\n",
    "    Different attacks capture different signals, so combining them often improves performance.\n",
    "    \n",
    "    Args:\n",
    "        scores_dict: Dictionary of {attack_name: scores_array}\n",
    "        weights: Optional weights for each attack (default: equal weights)\n",
    "    \"\"\"\n",
    "    if weights is None:\n",
    "        weights = {name: 1.0 for name in scores_dict.keys()}\n",
    "    \n",
    "    # Normalize each score to [0, 1] range\n",
    "    normalized_scores = {}\n",
    "    for name, scores in scores_dict.items():\n",
    "        min_score = scores.min()\n",
    "        max_score = scores.max()\n",
    "        if max_score > min_score:\n",
    "            normalized_scores[name] = (scores - min_score) / (max_score - min_score)\n",
    "        else:\n",
    "            normalized_scores[name] = scores\n",
    "    \n",
    "    # Weighted average\n",
    "    ensemble_scores = np.zeros_like(list(normalized_scores.values())[0])\n",
    "    total_weight = sum(weights.values())\n",
    "    \n",
    "    for name, scores in normalized_scores.items():\n",
    "        ensemble_scores += scores * weights[name] / total_weight\n",
    "    \n",
    "    return ensemble_scores\n",
    "\n",
    "# Create ensemble of best attacks\n",
    "print(\"Creating Ensemble Attack...\")\n",
    "ensemble_dict = {\n",
    "    'Custom Loss': scores_custom,\n",
    "    'Min-K (20%)': scores_mink,\n",
    "    'Zlib': scores_zlib\n",
    "}\n",
    "\n",
    "scores_ensemble = ensemble_attack(ensemble_dict)\n",
    "print(f\"Ensemble attack completed. Score range: [{scores_ensemble.min():.4f}, {scores_ensemble.max():.4f}]\")\n",
    "\n",
    "# You can also try weighted ensemble (giving more weight to better attacks)\n",
    "# scores_ensemble_weighted = ensemble_attack(ensemble_dict, weights={'Custom Loss': 2.0, 'Min-K (20%)': 1.5, 'Zlib': 1.0})"
   ]
  },
  {
   "cell_type": "code",
   "execution_count": 22,
   "id": "734b4f84",
   "metadata": {},
   "outputs": [
    {
     "name": "stdout",
     "output_type": "stream",
     "text": [
      "Running Length-Calibrated Attack...\n",
      "Length-calibrated attack completed. Score range: [-0.0739, -0.0008]\n"
     ]
    }
   ],
   "source": [
    "# Advanced Attack 4: Neighbor-based Calibration\n",
    "# Calibrate loss using text length (similar to zlib but simpler)\n",
    "\n",
    "@torch.no_grad()\n",
    "def length_calibrated_attack(model, dataloader, device, test_items):\n",
    "    \"\"\"\n",
    "    Normalize loss by text length.\n",
    "    Alternative to zlib that's simpler and sometimes more effective.\n",
    "    \"\"\"\n",
    "    model.eval()\n",
    "    all_scores = []\n",
    "    sample_idx = 0\n",
    "    \n",
    "    for batch in dataloader:\n",
    "        input_ids = batch[\"input_ids\"].to(device)\n",
    "        attention_mask = batch[\"attention_mask\"].to(device)\n",
    "        labels = batch[\"labels\"].to(device)\n",
    "        \n",
    "        outputs = model(input_ids=input_ids, attention_mask=attention_mask, labels=labels)\n",
    "        \n",
    "        loss_fct = torch.nn.CrossEntropyLoss(reduction='none')\n",
    "        shift_logits = outputs.logits[..., :-1, :].contiguous()\n",
    "        shift_labels = labels[..., 1:].contiguous()\n",
    "        \n",
    "        losses = loss_fct(shift_logits.view(-1, shift_logits.size(-1)), shift_labels.view(-1))\n",
    "        losses = losses.view(shift_labels.size(0), -1)\n",
    "        \n",
    "        # Mask and average\n",
    "        shift_mask = attention_mask[:, 1:].contiguous()\n",
    "        masked_losses = losses * shift_mask\n",
    "        token_counts = shift_mask.sum(dim=1)\n",
    "        mean_losses = masked_losses.sum(dim=1) / torch.clamp(token_counts, min=1)\n",
    "        \n",
    "        for i, loss in enumerate(mean_losses):\n",
    "            text = test_items[sample_idx]\n",
    "            text_length = len(text)  # Simple character count\n",
    "            \n",
    "            # Normalize by length\n",
    "            normalized_score = loss.item() / (text_length + 1)  # +1 to avoid division by zero\n",
    "            all_scores.append(normalized_score)\n",
    "            sample_idx += 1\n",
    "    \n",
    "    return -np.array(all_scores)\n",
    "\n",
    "print(\"Running Length-Calibrated Attack...\")\n",
    "scores_length_cal = length_calibrated_attack(model, dl_test, device, test_items)\n",
    "print(f\"Length-calibrated attack completed. Score range: [{scores_length_cal.min():.4f}, {scores_length_cal.max():.4f}]\")"
   ]
  },
  {
   "cell_type": "markdown",
   "id": "850059e0",
   "metadata": {},
   "source": [
    "### Summary of Advanced Techniques\n",
    "\n",
    "**Top recommendations for better MIA performance:**\n",
    "\n",
    "1. **Min-K with smaller k (5-10%)** - Often outperforms k=20%\n",
    "2. **Perplexity** - Better numerical properties than raw loss\n",
    "3. **Ensemble** - Combine multiple attacks (usually gives best results!)\n",
    "4. **Proper padding handling** - Already done in Custom Loss attack\n",
    "5. **Length/Zlib calibration** - Accounts for text complexity\n",
    "\n",
    "**Next steps:**\n",
    "- Run the advanced attacks above\n",
    "- Add them to the comparison cell\n",
    "- Try ensemble attack with different weight combinations\n",
    "- **Ensemble typically gives 2-5% AUC improvement!** 🎯"
   ]
  },
  {
   "cell_type": "code",
   "execution_count": 15,
   "id": "f10eba7b",
   "metadata": {},
   "outputs": [
    {
     "name": "stdout",
     "output_type": "stream",
     "text": [
      "Using Zlib Attack scores for evaluation\n",
      "Selected scores shape: (2000,)\n",
      "Score statistics: mean=-0.0218, std=0.0185\n"
     ]
    }
   ],
   "source": [
    "# Choose which attack to evaluate\n",
    "# Options: 'loss', 'mink', 'zlib'\n",
    "\n",
    "attack_choice = 'zlib'  # Change this to test different attacks\n",
    "\n",
    "if attack_choice == 'loss':\n",
    "    scores_test = scores_loss\n",
    "    print(\"Using Loss-based Attack scores for evaluation\")\n",
    "elif attack_choice == 'mink':\n",
    "    scores_test = scores_mink\n",
    "    print(\"Using Min-K Attack scores for evaluation\")\n",
    "elif attack_choice == 'zlib':\n",
    "    scores_test = scores_zlib\n",
    "    print(\"Using Zlib Attack scores for evaluation\")\n",
    "else:\n",
    "    print(\"Invalid choice! Using Loss-based Attack by default\")\n",
    "    scores_test = scores_loss\n",
    "\n",
    "print(f\"Selected scores shape: {scores_test.shape}\")\n",
    "print(f\"Score statistics: mean={scores_test.mean():.4f}, std={scores_test.std():.4f}\")"
   ]
  },
  {
   "cell_type": "markdown",
   "id": "59fe128e",
   "metadata": {
    "id": "59fe128e"
   },
   "source": [
    "### Visualization"
   ]
  },
  {
   "cell_type": "code",
   "execution_count": 16,
   "id": "0ae9279c",
   "metadata": {
    "id": "0ae9279c"
   },
   "outputs": [
    {
     "name": "stdout",
     "output_type": "stream",
     "text": [
      "0.540223\n",
      "0.035\n",
      "0.108\n"
     ]
    }
   ],
   "source": [
    "# load the label here to compute the performance, you will only have full access to the label in phase 1 as a warm-up\n",
    "label_path = data_dir / \"test_label.json\"\n",
    "label_items = _read_json(label_path)\n",
    "\n",
    "y_true = np.array(label_items)\n",
    "scores = np.array(scores_test)\n",
    "fpr, tpr, thr = roc_curve(y_true, scores)\n",
    "auc_val = roc_auc_score(y_true, scores)\n",
    "print(auc_val) # area under curve\n",
    "\n",
    "# some tpr fpr\n",
    "print(max(tpr[fpr < 0.01])) # TPR @ 0.01FPR\n",
    "print(max(tpr[fpr < 0.05])) # TPR @ 0.05FPR\n",
    "# report this three metrics in your report!!"
   ]
  },
  {
   "cell_type": "code",
   "execution_count": 17,
   "id": "de2e08d5",
   "metadata": {
    "id": "de2e08d5"
   },
   "outputs": [
    {
     "data": {
      "image/png": "[encoded data removed]",
      "text/plain": [
       "<Figure size 800x600 with 1 Axes>"
      ]
     },
     "metadata": {},
     "output_type": "display_data"
    }
   ],
   "source": [
    "# draw ROC curve and attach the figure in the report\n",
    "plt.figure(figsize=(8, 6))\n",
    "plt.plot(fpr, tpr, color='darkorange', lw=2, label=f'ROC curve (AUC = {auc_val:.4f})')\n",
    "plt.plot([0, 1], [0, 1], color='navy', lw=2, linestyle='--', label='Chance line')\n",
    "plt.xlim([0.0, 1.0])\n",
    "plt.ylim([0.0, 1.05])\n",
    "plt.xlabel('False Positive Rate (FPR)')\n",
    "plt.ylabel('True Positive Rate (TPR)')\n",
    "plt.title(f'MIA ROC Curve for Train Data')\n",
    "plt.legend(loc=\"lower right\")\n",
    "plt.grid(alpha=0.5)\n",
    "plt.show()"
   ]
  },
  {
   "cell_type": "code",
   "execution_count": 18,
   "id": "6399f27d",
   "metadata": {},
   "outputs": [
    {
     "name": "stdout",
     "output_type": "stream",
     "text": [
      "============================================================\n",
      "COMPARISON OF ALL ATTACKS\n",
      "============================================================\n",
      "\n",
      "Loss-based Attack:\n",
      "  AUC:           0.5579\n",
      "  TPR @ 0.01FPR: 0.0320\n",
      "  TPR @ 0.05FPR: 0.1120\n",
      "\n",
      "Min-K (20%) Attack:\n",
      "  AUC:           0.5781\n",
      "  TPR @ 0.01FPR: 0.0170\n",
      "  TPR @ 0.05FPR: 0.0770\n",
      "\n",
      "Zlib Attack:\n",
      "  AUC:           0.5402\n",
      "  TPR @ 0.01FPR: 0.0350\n",
      "  TPR @ 0.05FPR: 0.1080\n",
      "\n",
      "Custom Loss Attack:\n",
      "  AUC:           0.7136\n",
      "  TPR @ 0.01FPR: 0.0330\n",
      "  TPR @ 0.05FPR: 0.1950\n",
      "\n",
      "============================================================\n"
     ]
    },
    {
     "data": {
      "image/png": "[encoded data removed]",
      "text/plain": [
       "<Figure size 1000x800 with 1 Axes>"
      ]
     },
     "metadata": {},
     "output_type": "display_data"
    },
    {
     "name": "stdout",
     "output_type": "stream",
     "text": [
      "\n",
      "🏆 Best performing attack: Custom Loss with AUC = 0.7136\n"
     ]
    }
   ],
   "source": [
    "# Compare all four attacks side by side (including custom loss_attack)\n",
    "print(\"=\"*60)\n",
    "print(\"COMPARISON OF ALL ATTACKS\")\n",
    "print(\"=\"*60)\n",
    "\n",
    "attacks = {\n",
    "    'Loss-based': scores_loss,\n",
    "    'Min-K (20%)': scores_mink,\n",
    "    'Zlib': scores_zlib,\n",
    "    'Custom Loss': scores_custom  # Custom loss_attack with proper padding handling\n",
    "}\n",
    "\n",
    "results = {}\n",
    "\n",
    "for attack_name, scores in attacks.items():\n",
    "    y_true = np.array(label_items)\n",
    "    fpr_temp, tpr_temp, _ = roc_curve(y_true, scores)\n",
    "    auc_temp = roc_auc_score(y_true, scores)\n",
    "    tpr_at_001 = max(tpr_temp[fpr_temp < 0.01]) if any(fpr_temp < 0.01) else 0\n",
    "    tpr_at_005 = max(tpr_temp[fpr_temp < 0.05]) if any(fpr_temp < 0.05) else 0\n",
    "    \n",
    "    results[attack_name] = {\n",
    "        'auc': auc_temp,\n",
    "        'tpr@0.01': tpr_at_001,\n",
    "        'tpr@0.05': tpr_at_005,\n",
    "        'fpr': fpr_temp,\n",
    "        'tpr': tpr_temp\n",
    "    }\n",
    "    \n",
    "    print(f\"\\n{attack_name} Attack:\")\n",
    "    print(f\"  AUC:           {auc_temp:.4f}\")\n",
    "    print(f\"  TPR @ 0.01FPR: {tpr_at_001:.4f}\")\n",
    "    print(f\"  TPR @ 0.05FPR: {tpr_at_005:.4f}\")\n",
    "\n",
    "print(\"\\n\" + \"=\"*60)\n",
    "\n",
    "# Plot all four ROC curves together\n",
    "plt.figure(figsize=(10, 8))\n",
    "\n",
    "colors = ['darkorange', 'green', 'purple', 'red']\n",
    "for (attack_name, result), color in zip(results.items(), colors):\n",
    "    plt.plot(result['fpr'], result['tpr'], color=color, lw=2, \n",
    "             label=f'{attack_name} (AUC = {result[\"auc\"]:.4f})')\n",
    "\n",
    "plt.plot([0, 1], [0, 1], color='navy', lw=2, linestyle='--', label='Chance line')\n",
    "plt.xlim([0.0, 1.0])\n",
    "plt.ylim([0.0, 1.05])\n",
    "plt.xlabel('False Positive Rate (FPR)', fontsize=12)\n",
    "plt.ylabel('True Positive Rate (TPR)', fontsize=12)\n",
    "plt.title('Comparison of MIA Attacks - ROC Curves', fontsize=14, fontweight='bold')\n",
    "plt.legend(loc=\"lower right\", fontsize=10)\n",
    "plt.grid(alpha=0.3)\n",
    "plt.tight_layout()\n",
    "plt.show()\n",
    "\n",
    "# Find the best attack\n",
    "best_attack = max(results.items(), key=lambda x: x[1]['auc'])\n",
    "print(f\"\\n🏆 Best performing attack: {best_attack[0]} with AUC = {best_attack[1]['auc']:.4f}\")"
   ]
  },
  {
   "cell_type": "markdown",
   "id": "5c4c326c",
   "metadata": {},
   "source": [
    "## Why Custom loss_attack Has Higher AUC\n",
    "\n",
    "The custom `loss_attack` likely performs better because of **better padding handling**:\n",
    "\n",
    "### Key Differences:\n",
    "\n",
    "1. **`loss_based_attack` (Cells 15)**:\n",
    "   - Uses `mean(dim=1)` directly on all tokens\n",
    "   - **May include padding tokens** in the average if attention mask isn't properly applied\n",
    "   - Formula: `losses.mean(dim=1)` - simple average over all positions\n",
    "\n",
    "2. **`loss_attack` (Cell 23 - Custom)**:\n",
    "   - **Explicitly masks out padding tokens**: `masked = per_token_loss * attn`\n",
    "   - Only counts **valid (non-padding) tokens**: `token_counts = attn.sum(dim=1)`\n",
    "   - Formula: `masked.sum(dim=1) / token_counts` - weighted average excluding padding\n",
    "\n",
    "### Why This Matters:\n",
    "\n",
    "- **Padding tokens** can have artificially low or zero loss\n",
    "- Including padding in the average **dilutes** the real signal\n",
    "- Different samples have different amounts of padding (different text lengths)\n",
    "- Samples with more padding would have **biased lower loss** if padding isn't excluded\n",
    "\n",
    "### Result:\n",
    "The custom implementation gives a **more accurate loss estimate** by only considering actual content tokens, leading to better discrimination between training/non-training samples → **Higher AUC**\n",
    "\n",
    "### To Verify:\n",
    "Run the comparison cell (Cell 22) and check if custom loss_attack beats loss_based_attack. If so, it's because of better padding handling!"
   ]
  },
  {
   "cell_type": "code",
   "execution_count": null,
   "id": "8d5868b1",
   "metadata": {},
   "outputs": [],
   "source": [
    "# Advanced Attacks Comparison - Comprehensive Evaluation\n",
    "print(\"=\"*70)\n",
    "print(\"COMPREHENSIVE COMPARISON: BASELINE VS ADVANCED ATTACKS\")\n",
    "print(\"=\"*70)\n",
    "\n",
    "# Collect all attacks (baseline + advanced)\n",
    "all_attacks = {\n",
    "    # Baseline attacks\n",
    "    'Loss-based': scores_loss,\n",
    "    'Min-K (20%)': scores_mink,\n",
    "    'Zlib': scores_zlib,\n",
    "    'Custom Loss': scores_custom,\n",
    "    # Advanced attacks\n",
    "    'Min-K (10%)': scores_mink_10,\n",
    "    'Perplexity': scores_perplexity,\n",
    "    'Length-Calibrated': scores_length_cal,\n",
    "    'Ensemble': scores_ensemble\n",
    "}\n",
    "\n",
    "all_results = {}\n",
    "\n",
    "for attack_name, scores in all_attacks.items():\n",
    "    y_true = np.array(label_items)\n",
    "    fpr_temp, tpr_temp, _ = roc_curve(y_true, scores)\n",
    "    auc_temp = roc_auc_score(y_true, scores)\n",
    "    tpr_at_001 = max(tpr_temp[fpr_temp < 0.01]) if any(fpr_temp < 0.01) else 0\n",
    "    tpr_at_005 = max(tpr_temp[fpr_temp < 0.05]) if any(fpr_temp < 0.05) else 0\n",
    "    \n",
    "    all_results[attack_name] = {\n",
    "        'auc': auc_temp,\n",
    "        'tpr@0.01': tpr_at_001,\n",
    "        'tpr@0.05': tpr_at_005,\n",
    "        'fpr': fpr_temp,\n",
    "        'tpr': tpr_temp\n",
    "    }\n",
    "    \n",
    "    # Mark advanced attacks with a star\n",
    "    marker = \"⭐\" if attack_name in ['Min-K (10%)', 'Perplexity', 'Length-Calibrated', 'Ensemble'] else \"  \"\n",
    "    print(f\"\\n{marker} {attack_name} Attack:\")\n",
    "    print(f\"    AUC:           {auc_temp:.4f}\")\n",
    "    print(f\"    TPR @ 0.01FPR: {tpr_at_001:.4f}\")\n",
    "    print(f\"    TPR @ 0.05FPR: {tpr_at_005:.4f}\")\n",
    "\n",
    "print(\"\\n\" + \"=\"*70)\n",
    "\n",
    "# Create a comprehensive comparison plot\n",
    "fig, (ax1, ax2) = plt.subplots(1, 2, figsize=(16, 7))\n",
    "\n",
    "# Left plot: All ROC curves\n",
    "colors = ['darkorange', 'green', 'purple', 'red', 'cyan', 'magenta', 'brown', 'gold']\n",
    "linestyles = ['-', '-', '-', '-', '--', '--', '--', '--']  # Dashed for advanced\n",
    "\n",
    "for (attack_name, result), color, ls in zip(all_results.items(), colors, linestyles):\n",
    "    linewidth = 3 if attack_name == 'Ensemble' else 2\n",
    "    ax1.plot(result['fpr'], result['tpr'], color=color, lw=linewidth, linestyle=ls,\n",
    "             label=f'{attack_name} ({result[\"auc\"]:.4f})', alpha=0.8)\n",
    "\n",
    "ax1.plot([0, 1], [0, 1], color='navy', lw=2, linestyle=':', label='Chance (0.5000)', alpha=0.5)\n",
    "ax1.set_xlim([0.0, 1.0])\n",
    "ax1.set_ylim([0.0, 1.05])\n",
    "ax1.set_xlabel('False Positive Rate (FPR)', fontsize=12)\n",
    "ax1.set_ylabel('True Positive Rate (TPR)', fontsize=12)\n",
    "ax1.set_title('ROC Curves: All Attacks', fontsize=14, fontweight='bold')\n",
    "ax1.legend(loc=\"lower right\", fontsize=9)\n",
    "ax1.grid(alpha=0.3)\n",
    "\n",
    "# Right plot: AUC comparison bar chart\n",
    "attack_names = list(all_results.keys())\n",
    "aucs = [all_results[name]['auc'] for name in attack_names]\n",
    "colors_bar = ['lightblue' if name not in ['Min-K (10%)', 'Perplexity', 'Length-Calibrated', 'Ensemble'] \n",
    "              else 'lightcoral' for name in attack_names]\n",
    "\n",
    "bars = ax2.barh(attack_names, aucs, color=colors_bar, edgecolor='black', linewidth=1.5)\n",
    "# Highlight the best attack\n",
    "best_idx = aucs.index(max(aucs))\n",
    "bars[best_idx].set_color('gold')\n",
    "bars[best_idx].set_edgecolor('darkgoldenrod')\n",
    "bars[best_idx].set_linewidth(2.5)\n",
    "\n",
    "ax2.set_xlabel('AUC Score', fontsize=12)\n",
    "ax2.set_title('AUC Comparison', fontsize=14, fontweight='bold')\n",
    "ax2.set_xlim([0.5, 1.0])\n",
    "ax2.axvline(x=0.5, color='navy', linestyle=':', linewidth=2, alpha=0.5, label='Random')\n",
    "ax2.grid(axis='x', alpha=0.3)\n",
    "\n",
    "# Add value labels on bars\n",
    "for i, (name, auc) in enumerate(zip(attack_names, aucs)):\n",
    "    ax2.text(auc + 0.01, i, f'{auc:.4f}', va='center', fontsize=9, fontweight='bold')\n",
    "\n",
    "# Add legend for colors\n",
    "from matplotlib.patches import Patch\n",
    "legend_elements = [\n",
    "    Patch(facecolor='lightblue', edgecolor='black', label='Baseline'),\n",
    "    Patch(facecolor='lightcoral', edgecolor='black', label='Advanced'),\n",
    "    Patch(facecolor='gold', edgecolor='darkgoldenrod', label='Best')\n",
    "]\n",
    "ax2.legend(handles=legend_elements, loc='lower right', fontsize=9)\n",
    "\n",
    "plt.tight_layout()\n",
    "plt.show()\n",
    "\n",
    "# Find and display the best attack\n",
    "print(\"\\n\" + \"=\"*70)\n",
    "best_attack = max(all_results.items(), key=lambda x: x[1]['auc'])\n",
    "print(f\"🏆 BEST PERFORMING ATTACK: {best_attack[0]}\")\n",
    "print(f\"   AUC:           {best_attack[1]['auc']:.4f}\")\n",
    "print(f\"   TPR @ 0.01FPR: {best_attack[1]['tpr@0.01']:.4f}\")\n",
    "print(f\"   TPR @ 0.05FPR: {best_attack[1]['tpr@0.05']:.4f}\")\n",
    "\n",
    "# Show improvement over baseline\n",
    "baseline_auc = all_results['Loss-based']['auc']\n",
    "improvement = (best_attack[1]['auc'] - baseline_auc) * 100\n",
    "print(f\"\\n📈 Improvement over baseline Loss-based: +{improvement:.2f}% AUC\")\n",
    "print(\"=\"*70)"
   ]
  }
 ],
 "metadata": {
  "colab": {
   "provenance": []
  },
  "kernelspec": {
   "display_name": "Python (project_phase1 .venv)",
   "language": "python",
   "name": "project_phase1"
  },
  "language_info": {
   "codemirror_mode": {
    "name": "ipython",
    "version": 3
   },
   "file_extension": ".py",
   "mimetype": "text/x-python",
   "name": "python",
   "nbconvert_exporter": "python",
   "pygments_lexer": "ipython3",
   "version": "3.12.3"
  }
 },
 "nbformat": 4,
 "nbformat_minor": 5
}
